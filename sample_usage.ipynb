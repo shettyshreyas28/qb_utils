{
 "cells": [
  {
   "cell_type": "code",
   "execution_count": 1,
   "metadata": {},
   "outputs": [],
   "source": [
    "import pandas as pd\n",
    "from utils import get_clean, clean_options"
   ]
  },
  {
   "cell_type": "code",
   "execution_count": 2,
   "metadata": {},
   "outputs": [],
   "source": [
    "df = pd.read_csv('data/sample_qb_data.csv')"
   ]
  },
  {
   "cell_type": "code",
   "execution_count": 3,
   "metadata": {},
   "outputs": [
    {
     "data": {
      "text/html": [
       "<div>\n",
       "<style scoped>\n",
       "    .dataframe tbody tr th:only-of-type {\n",
       "        vertical-align: middle;\n",
       "    }\n",
       "\n",
       "    .dataframe tbody tr th {\n",
       "        vertical-align: top;\n",
       "    }\n",
       "\n",
       "    .dataframe thead th {\n",
       "        text-align: right;\n",
       "    }\n",
       "</style>\n",
       "<table border=\"1\" class=\"dataframe\">\n",
       "  <thead>\n",
       "    <tr style=\"text-align: right;\">\n",
       "      <th></th>\n",
       "      <th>qns_id</th>\n",
       "      <th>qns_content</th>\n",
       "      <th>options</th>\n",
       "      <th>language</th>\n",
       "      <th>answer</th>\n",
       "      <th>solution</th>\n",
       "      <th>stream</th>\n",
       "      <th>subject_code</th>\n",
       "      <th>subject_id</th>\n",
       "      <th>class_code</th>\n",
       "      <th>topic</th>\n",
       "      <th>subtopic</th>\n",
       "      <th>question_type</th>\n",
       "      <th>difficulty_level</th>\n",
       "    </tr>\n",
       "  </thead>\n",
       "  <tbody>\n",
       "    <tr>\n",
       "      <th>0</th>\n",
       "      <td>2378713</td>\n",
       "      <td>\"&lt;div style=\\\"text-align:justify\\\"&gt;For all &lt;im...</td>\n",
       "      <td>[\"&lt;div style=\\\"text-align:justify\\\"&gt;2&lt;\\/div&gt;\\n...</td>\n",
       "      <td>1</td>\n",
       "      <td>[0]</td>\n",
       "      <td>\"\"</td>\n",
       "      <td>IIT</td>\n",
       "      <td>MT</td>\n",
       "      <td>3</td>\n",
       "      <td>12</td>\n",
       "      <td>Functions</td>\n",
       "      <td>Miscellaneous/Mixed</td>\n",
       "      <td>Single Correct</td>\n",
       "      <td>EASY</td>\n",
       "    </tr>\n",
       "    <tr>\n",
       "      <th>1</th>\n",
       "      <td>3211012</td>\n",
       "      <td>\"&lt;div style=\\\"text-align:justify\\\"&gt;If &amp;alpha;,...</td>\n",
       "      <td>[\"&lt;div style=\\\"text-align:justify\\\"&gt;&amp;ndash;6&lt;\\...</td>\n",
       "      <td>1</td>\n",
       "      <td>[2]</td>\n",
       "      <td>\"&lt;div style=\\\"text-align:justify\\\"&gt;&lt;img alt=\\\"...</td>\n",
       "      <td>IIT</td>\n",
       "      <td>MT</td>\n",
       "      <td>3</td>\n",
       "      <td>13</td>\n",
       "      <td>Quadratic Equation</td>\n",
       "      <td>Theory of equations</td>\n",
       "      <td>Single Correct</td>\n",
       "      <td>MEDIUM</td>\n",
       "    </tr>\n",
       "    <tr>\n",
       "      <th>2</th>\n",
       "      <td>3636843</td>\n",
       "      <td>\"&lt;div style=\\\"text-align:justify\\\"&gt;The value o...</td>\n",
       "      <td>[\"&lt;div style=\\\"text-align:justify\\\"&gt;&lt;img alt=\\...</td>\n",
       "      <td>1</td>\n",
       "      <td>[2]</td>\n",
       "      <td>\"\"</td>\n",
       "      <td>IIT</td>\n",
       "      <td>MT</td>\n",
       "      <td>3</td>\n",
       "      <td>11</td>\n",
       "      <td>Trigonometric Ratios &amp; Identities</td>\n",
       "      <td>Miscellaneous/Mixed</td>\n",
       "      <td>Single Correct</td>\n",
       "      <td>EASY</td>\n",
       "    </tr>\n",
       "    <tr>\n",
       "      <th>3</th>\n",
       "      <td>2321715</td>\n",
       "      <td>\"&lt;div style=\\\"text-align:justify\\\"&gt;The non-con...</td>\n",
       "      <td>[\"&lt;div style=\\\"text-align:justify\\\"&gt;&lt;img alt=\\...</td>\n",
       "      <td>1</td>\n",
       "      <td>[1]</td>\n",
       "      <td>\"&lt;div style=\\\"text-align:justify\\\"&gt;&lt;img alt=\\\"...</td>\n",
       "      <td>IIT</td>\n",
       "      <td>PH</td>\n",
       "      <td>2</td>\n",
       "      <td>12</td>\n",
       "      <td>W.E.P.</td>\n",
       "      <td>Work Energy Theorem</td>\n",
       "      <td>Single Correct</td>\n",
       "      <td>EASY</td>\n",
       "    </tr>\n",
       "    <tr>\n",
       "      <th>4</th>\n",
       "      <td>1847864</td>\n",
       "      <td>\"0.8 gram-atoms of an &amp;alpha;-emitting radionu...</td>\n",
       "      <td>[]</td>\n",
       "      <td>1</td>\n",
       "      <td>6.00</td>\n",
       "      <td>\"\"</td>\n",
       "      <td>IIT</td>\n",
       "      <td>PC</td>\n",
       "      <td>5</td>\n",
       "      <td>12</td>\n",
       "      <td>Radioactivity</td>\n",
       "      <td>Applications of Radioactivity, carbon, rock da...</td>\n",
       "      <td>Integer Decimal</td>\n",
       "      <td>EASY</td>\n",
       "    </tr>\n",
       "  </tbody>\n",
       "</table>\n",
       "</div>"
      ],
      "text/plain": [
       "    qns_id                                        qns_content  \\\n",
       "0  2378713  \"<div style=\\\"text-align:justify\\\">For all <im...   \n",
       "1  3211012  \"<div style=\\\"text-align:justify\\\">If &alpha;,...   \n",
       "2  3636843  \"<div style=\\\"text-align:justify\\\">The value o...   \n",
       "3  2321715  \"<div style=\\\"text-align:justify\\\">The non-con...   \n",
       "4  1847864  \"0.8 gram-atoms of an &alpha;-emitting radionu...   \n",
       "\n",
       "                                             options  language answer  \\\n",
       "0  [\"<div style=\\\"text-align:justify\\\">2<\\/div>\\n...         1    [0]   \n",
       "1  [\"<div style=\\\"text-align:justify\\\">&ndash;6<\\...         1    [2]   \n",
       "2  [\"<div style=\\\"text-align:justify\\\"><img alt=\\...         1    [2]   \n",
       "3  [\"<div style=\\\"text-align:justify\\\"><img alt=\\...         1    [1]   \n",
       "4                                                 []         1   6.00   \n",
       "\n",
       "                                            solution stream subject_code  \\\n",
       "0                                                 \"\"    IIT           MT   \n",
       "1  \"<div style=\\\"text-align:justify\\\"><img alt=\\\"...    IIT           MT   \n",
       "2                                                 \"\"    IIT           MT   \n",
       "3  \"<div style=\\\"text-align:justify\\\"><img alt=\\\"...    IIT           PH   \n",
       "4                                                 \"\"    IIT           PC   \n",
       "\n",
       "   subject_id  class_code                              topic  \\\n",
       "0           3          12                          Functions   \n",
       "1           3          13                 Quadratic Equation   \n",
       "2           3          11  Trigonometric Ratios & Identities   \n",
       "3           2          12                             W.E.P.   \n",
       "4           5          12                      Radioactivity   \n",
       "\n",
       "                                            subtopic    question_type  \\\n",
       "0                                Miscellaneous/Mixed   Single Correct   \n",
       "1                                Theory of equations   Single Correct   \n",
       "2                                Miscellaneous/Mixed   Single Correct   \n",
       "3                                Work Energy Theorem   Single Correct   \n",
       "4  Applications of Radioactivity, carbon, rock da...  Integer Decimal   \n",
       "\n",
       "  difficulty_level  \n",
       "0             EASY  \n",
       "1           MEDIUM  \n",
       "2             EASY  \n",
       "3             EASY  \n",
       "4             EASY  "
      ]
     },
     "execution_count": 3,
     "metadata": {},
     "output_type": "execute_result"
    }
   ],
   "source": [
    "df.head()"
   ]
  },
  {
   "cell_type": "code",
   "execution_count": 4,
   "metadata": {},
   "outputs": [],
   "source": [
    "df['question_text'] = df['qns_content'].apply(lambda x: get_clean(x))\n",
    "df['options_text'] = df['options'].apply(lambda x: clean_options(x))"
   ]
  },
  {
   "cell_type": "code",
   "execution_count": 5,
   "metadata": {},
   "outputs": [
    {
     "data": {
      "text/plain": [
       "60    Infinite number of blocks are connected by ide...\n",
       "53      In the following reactionThe major product is :\n",
       "68    A porter lifts a heavy suitcase of mass 80 kg ...\n",
       "62    \"\\u091c\\u092c  \\u0915\\u094b \\u0915\\u094d\\u0930...\n",
       "87    The equilibrium CaC{O_3} \\rightleftharpoons Ca...\n",
       "Name: question_text, dtype: object"
      ]
     },
     "execution_count": 5,
     "metadata": {},
     "output_type": "execute_result"
    }
   ],
   "source": [
    "df['question_text'].sample(5)"
   ]
  },
  {
   "cell_type": "code",
   "execution_count": 6,
   "metadata": {},
   "outputs": [
    {
     "data": {
      "text/plain": [
       "17                                                     \n",
       "89                                              , , 0, \n",
       "18    1.8, 12.044 ×10^{23}, 1.084 × 10^{25}, 10.84 ×...\n",
       "61                                                     \n",
       "90    \\frac{{27}}{4}, \\frac{{29}}{4}, \\frac{{37}}{4}...\n",
       "Name: options_text, dtype: object"
      ]
     },
     "execution_count": 6,
     "metadata": {},
     "output_type": "execute_result"
    }
   ],
   "source": [
    "df['options_text'].sample(5)"
   ]
  },
  {
   "cell_type": "code",
   "execution_count": null,
   "metadata": {},
   "outputs": [],
   "source": []
  }
 ],
 "metadata": {
  "kernelspec": {
   "display_name": "trial",
   "language": "python",
   "name": "python3"
  },
  "language_info": {
   "codemirror_mode": {
    "name": "ipython",
    "version": 3
   },
   "file_extension": ".py",
   "mimetype": "text/x-python",
   "name": "python",
   "nbconvert_exporter": "python",
   "pygments_lexer": "ipython3",
   "version": "3.10.14"
  }
 },
 "nbformat": 4,
 "nbformat_minor": 2
}
